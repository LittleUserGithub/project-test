{
 "cells": [
  {
   "cell_type": "code",
   "execution_count": 12,
   "id": "d11ccd8f",
   "metadata": {},
   "outputs": [
    {
     "name": "stderr",
     "output_type": "stream",
     "text": [
      "C:\\Users\\Usuario\\AppData\\Local\\Temp\\ipykernel_116832\\159349122.py:5: DeprecationWarning: executable_path has been deprecated, please pass in a Service object\n",
      "  driver = webdriver.Chrome('C:/Users/Usuario/Desktop/work/selenium python/driver/chromedriver.exe')\n"
     ]
    }
   ],
   "source": [
    "from selenium import webdriver\n",
    "from time import sleep\n",
    "import time\n",
    "\n",
    "driver = webdriver.Chrome('C:/Users/Usuario/Desktop/work/selenium python/driver/chromedriver.exe')\n",
    "driver.get('https://teams.microsoft.com/_')\n",
    "\n",
    "\n"
   ]
  },
  {
   "cell_type": "code",
   "execution_count": 13,
   "id": "5fd43025",
   "metadata": {},
   "outputs": [],
   "source": [
    "login = driver.find_element(\"xpath\",'//*[@id=\"i0116\"]')\n",
    "login.send_keys('x@mymoodbit.com')"
   ]
  },
  {
   "cell_type": "code",
   "execution_count": 14,
   "id": "c491a56b",
   "metadata": {},
   "outputs": [],
   "source": [
    "next1 = driver.find_element(\"xpath\",'//*[@id=\"idSIButton9\"]').click()"
   ]
  },
  {
   "cell_type": "code",
   "execution_count": 15,
   "id": "f02d955b",
   "metadata": {},
   "outputs": [],
   "source": [
    "password = driver.find_element(\"xpath\", '//*[@id=\"i0118\"]')\n",
    "password.send_keys('77t@]{Z#u*7tV.>s')"
   ]
  },
  {
   "cell_type": "code",
   "execution_count": 16,
   "id": "cea525a0",
   "metadata": {},
   "outputs": [],
   "source": [
    "start_session = driver.find_element(\"xpath\",'//*[@id=\"idSIButton9\"]').click()"
   ]
  },
  {
   "cell_type": "code",
   "execution_count": 17,
   "id": "4102bdd6",
   "metadata": {},
   "outputs": [],
   "source": [
    "no = driver.find_element(\"xpath\", '//*[@id=\"idBtn_Back\"]').click()"
   ]
  },
  {
   "cell_type": "code",
   "execution_count": 18,
   "id": "efa6db82",
   "metadata": {},
   "outputs": [],
   "source": [
    "survey_app = driver.find_element(\"xpath\", '//*[@id=\"app-bar-86425243-0129-41f7-bf74-971bee7ff3d3\"]').click()"
   ]
  },
  {
   "cell_type": "code",
   "execution_count": 20,
   "id": "f3fb8a38",
   "metadata": {},
   "outputs": [
    {
     "ename": "NoSuchElementException",
     "evalue": "Message: no such element: Unable to locate element: {\"method\":\"xpath\",\"selector\":\"//*[@id=\"root\"]/div/div/div[2]/div/div/div[1]/div[1]/button\"}\n  (Session info: chrome=105.0.5195.127)\nStacktrace:\nBacktrace:\n\tOrdinal0 [0x00E578B3+2193587]\n\tOrdinal0 [0x00DF0681+1771137]\n\tOrdinal0 [0x00D041A8+803240]\n\tOrdinal0 [0x00D324A0+992416]\n\tOrdinal0 [0x00D3273B+993083]\n\tOrdinal0 [0x00D5F7C2+1177538]\n\tOrdinal0 [0x00D4D7F4+1103860]\n\tOrdinal0 [0x00D5DAE2+1170146]\n\tOrdinal0 [0x00D4D5C6+1103302]\n\tOrdinal0 [0x00D277E0+948192]\n\tOrdinal0 [0x00D286E6+952038]\n\tGetHandleVerifier [0x01100CB2+2738370]\n\tGetHandleVerifier [0x010F21B8+2678216]\n\tGetHandleVerifier [0x00EE17AA+512954]\n\tGetHandleVerifier [0x00EE0856+509030]\n\tOrdinal0 [0x00DF743B+1799227]\n\tOrdinal0 [0x00DFBB68+1817448]\n\tOrdinal0 [0x00DFBC55+1817685]\n\tOrdinal0 [0x00E05230+1856048]\n\tBaseThreadInitThunk [0x75B08494+36]\n\tRtlAreBitsSet [0x77CE41C8+136]\n\tRtlAreBitsSet [0x77CE4198+88]\n",
     "output_type": "error",
     "traceback": [
      "\u001b[1;31m---------------------------------------------------------------------------\u001b[0m",
      "\u001b[1;31mNoSuchElementException\u001b[0m                    Traceback (most recent call last)",
      "Cell \u001b[1;32mIn[20], line 1\u001b[0m\n\u001b[1;32m----> 1\u001b[0m sing_up \u001b[38;5;241m=\u001b[39m \u001b[43mdriver\u001b[49m\u001b[38;5;241;43m.\u001b[39;49m\u001b[43mfind_element\u001b[49m\u001b[43m(\u001b[49m\u001b[38;5;124;43m\"\u001b[39;49m\u001b[38;5;124;43mxpath\u001b[39;49m\u001b[38;5;124;43m\"\u001b[39;49m\u001b[43m,\u001b[49m\u001b[43m \u001b[49m\u001b[38;5;124;43m'\u001b[39;49m\u001b[38;5;124;43m//*[@id=\u001b[39;49m\u001b[38;5;124;43m\"\u001b[39;49m\u001b[38;5;124;43mroot\u001b[39;49m\u001b[38;5;124;43m\"\u001b[39;49m\u001b[38;5;124;43m]/div/div/div[2]/div/div/div[1]/div[1]/button\u001b[39;49m\u001b[38;5;124;43m'\u001b[39;49m\u001b[43m)\u001b[49m\u001b[38;5;241m.\u001b[39mclick()\n",
      "File \u001b[1;32m~\\AppData\\Local\\Programs\\Python\\Python311\\Lib\\site-packages\\selenium\\webdriver\\remote\\webdriver.py:861\u001b[0m, in \u001b[0;36mWebDriver.find_element\u001b[1;34m(self, by, value)\u001b[0m\n\u001b[0;32m    858\u001b[0m     by \u001b[38;5;241m=\u001b[39m By\u001b[38;5;241m.\u001b[39mCSS_SELECTOR\n\u001b[0;32m    859\u001b[0m     value \u001b[38;5;241m=\u001b[39m \u001b[38;5;124m'\u001b[39m\u001b[38;5;124m[name=\u001b[39m\u001b[38;5;124m\"\u001b[39m\u001b[38;5;132;01m%s\u001b[39;00m\u001b[38;5;124m\"\u001b[39m\u001b[38;5;124m]\u001b[39m\u001b[38;5;124m'\u001b[39m \u001b[38;5;241m%\u001b[39m value\n\u001b[1;32m--> 861\u001b[0m \u001b[38;5;28;01mreturn\u001b[39;00m \u001b[38;5;28;43mself\u001b[39;49m\u001b[38;5;241;43m.\u001b[39;49m\u001b[43mexecute\u001b[49m\u001b[43m(\u001b[49m\u001b[43mCommand\u001b[49m\u001b[38;5;241;43m.\u001b[39;49m\u001b[43mFIND_ELEMENT\u001b[49m\u001b[43m,\u001b[49m\u001b[43m \u001b[49m\u001b[43m{\u001b[49m\u001b[38;5;124;43m\"\u001b[39;49m\u001b[38;5;124;43musing\u001b[39;49m\u001b[38;5;124;43m\"\u001b[39;49m\u001b[43m:\u001b[49m\u001b[43m \u001b[49m\u001b[43mby\u001b[49m\u001b[43m,\u001b[49m\u001b[43m \u001b[49m\u001b[38;5;124;43m\"\u001b[39;49m\u001b[38;5;124;43mvalue\u001b[39;49m\u001b[38;5;124;43m\"\u001b[39;49m\u001b[43m:\u001b[49m\u001b[43m \u001b[49m\u001b[43mvalue\u001b[49m\u001b[43m}\u001b[49m\u001b[43m)\u001b[49m[\u001b[38;5;124m\"\u001b[39m\u001b[38;5;124mvalue\u001b[39m\u001b[38;5;124m\"\u001b[39m]\n",
      "File \u001b[1;32m~\\AppData\\Local\\Programs\\Python\\Python311\\Lib\\site-packages\\selenium\\webdriver\\remote\\webdriver.py:444\u001b[0m, in \u001b[0;36mWebDriver.execute\u001b[1;34m(self, driver_command, params)\u001b[0m\n\u001b[0;32m    442\u001b[0m response \u001b[38;5;241m=\u001b[39m \u001b[38;5;28mself\u001b[39m\u001b[38;5;241m.\u001b[39mcommand_executor\u001b[38;5;241m.\u001b[39mexecute(driver_command, params)\n\u001b[0;32m    443\u001b[0m \u001b[38;5;28;01mif\u001b[39;00m response:\n\u001b[1;32m--> 444\u001b[0m     \u001b[38;5;28;43mself\u001b[39;49m\u001b[38;5;241;43m.\u001b[39;49m\u001b[43merror_handler\u001b[49m\u001b[38;5;241;43m.\u001b[39;49m\u001b[43mcheck_response\u001b[49m\u001b[43m(\u001b[49m\u001b[43mresponse\u001b[49m\u001b[43m)\u001b[49m\n\u001b[0;32m    445\u001b[0m     response[\u001b[38;5;124m\"\u001b[39m\u001b[38;5;124mvalue\u001b[39m\u001b[38;5;124m\"\u001b[39m] \u001b[38;5;241m=\u001b[39m \u001b[38;5;28mself\u001b[39m\u001b[38;5;241m.\u001b[39m_unwrap_value(response\u001b[38;5;241m.\u001b[39mget(\u001b[38;5;124m\"\u001b[39m\u001b[38;5;124mvalue\u001b[39m\u001b[38;5;124m\"\u001b[39m, \u001b[38;5;28;01mNone\u001b[39;00m))\n\u001b[0;32m    446\u001b[0m     \u001b[38;5;28;01mreturn\u001b[39;00m response\n",
      "File \u001b[1;32m~\\AppData\\Local\\Programs\\Python\\Python311\\Lib\\site-packages\\selenium\\webdriver\\remote\\errorhandler.py:249\u001b[0m, in \u001b[0;36mErrorHandler.check_response\u001b[1;34m(self, response)\u001b[0m\n\u001b[0;32m    247\u001b[0m         alert_text \u001b[38;5;241m=\u001b[39m value[\u001b[38;5;124m\"\u001b[39m\u001b[38;5;124malert\u001b[39m\u001b[38;5;124m\"\u001b[39m]\u001b[38;5;241m.\u001b[39mget(\u001b[38;5;124m\"\u001b[39m\u001b[38;5;124mtext\u001b[39m\u001b[38;5;124m\"\u001b[39m)\n\u001b[0;32m    248\u001b[0m     \u001b[38;5;28;01mraise\u001b[39;00m exception_class(message, screen, stacktrace, alert_text)  \u001b[38;5;66;03m# type: ignore[call-arg]  # mypy is not smart enough here\u001b[39;00m\n\u001b[1;32m--> 249\u001b[0m \u001b[38;5;28;01mraise\u001b[39;00m exception_class(message, screen, stacktrace)\n",
      "\u001b[1;31mNoSuchElementException\u001b[0m: Message: no such element: Unable to locate element: {\"method\":\"xpath\",\"selector\":\"//*[@id=\"root\"]/div/div/div[2]/div/div/div[1]/div[1]/button\"}\n  (Session info: chrome=105.0.5195.127)\nStacktrace:\nBacktrace:\n\tOrdinal0 [0x00E578B3+2193587]\n\tOrdinal0 [0x00DF0681+1771137]\n\tOrdinal0 [0x00D041A8+803240]\n\tOrdinal0 [0x00D324A0+992416]\n\tOrdinal0 [0x00D3273B+993083]\n\tOrdinal0 [0x00D5F7C2+1177538]\n\tOrdinal0 [0x00D4D7F4+1103860]\n\tOrdinal0 [0x00D5DAE2+1170146]\n\tOrdinal0 [0x00D4D5C6+1103302]\n\tOrdinal0 [0x00D277E0+948192]\n\tOrdinal0 [0x00D286E6+952038]\n\tGetHandleVerifier [0x01100CB2+2738370]\n\tGetHandleVerifier [0x010F21B8+2678216]\n\tGetHandleVerifier [0x00EE17AA+512954]\n\tGetHandleVerifier [0x00EE0856+509030]\n\tOrdinal0 [0x00DF743B+1799227]\n\tOrdinal0 [0x00DFBB68+1817448]\n\tOrdinal0 [0x00DFBC55+1817685]\n\tOrdinal0 [0x00E05230+1856048]\n\tBaseThreadInitThunk [0x75B08494+36]\n\tRtlAreBitsSet [0x77CE41C8+136]\n\tRtlAreBitsSet [0x77CE4198+88]\n"
     ]
    }
   ],
   "source": [
    "sing_up = driver.find_element(\"xpath\", '//*[@id=\"root\"]/div/div/div[2]/div/div/div[1]/div[1]/button').click()"
   ]
  },
  {
   "cell_type": "code",
   "execution_count": null,
   "id": "452b95d1",
   "metadata": {},
   "outputs": [],
   "source": []
  }
 ],
 "metadata": {
  "kernelspec": {
   "display_name": "Python 3 (ipykernel)",
   "language": "python",
   "name": "python3"
  },
  "language_info": {
   "codemirror_mode": {
    "name": "ipython",
    "version": 3
   },
   "file_extension": ".py",
   "mimetype": "text/x-python",
   "name": "python",
   "nbconvert_exporter": "python",
   "pygments_lexer": "ipython3",
   "version": "3.11.1"
  }
 },
 "nbformat": 4,
 "nbformat_minor": 5
}
